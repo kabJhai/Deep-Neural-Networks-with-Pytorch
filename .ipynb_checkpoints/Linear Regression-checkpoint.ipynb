{
 "cells": [
  {
   "cell_type": "markdown",
   "metadata": {},
   "source": [
    "# Linear Regression"
   ]
  },
  {
   "cell_type": "markdown",
   "metadata": {},
   "source": [
    "Linear regression is a method that helps us understand the relationship between two variables namely the dependent and independent variable.\n",
    "\n",
    "A simple linear regression is the same as a line equation.\n",
    "```python\n",
    "Y = b + wx\n",
    "Where x: is the independent variable\n",
    "    w: is the weight\n",
    "    b: is the bias term\n",
    "```\n",
    "We are going to learn the weight and the bias of the function when training the model.\n",
    "\n",
    "## 1. Simple Linear Regression"
   ]
  },
  {
   "cell_type": "code",
   "execution_count": 2,
   "metadata": {},
   "outputs": [],
   "source": [
    "import torch\n",
    "\n",
    "w = torch.tensor(2.0,requires_grad = True)\n",
    "b = torch.tensor(-1.0,requires_grad = True)\n",
    "\n",
    "def forward(x):\n",
    "    y = b + w*x\n",
    "    return y\n",
    "x = torch.tensor([[1.0],[2.5],[3.5]]) #Independent variable\n",
    "yhat = forward"
   ]
  },
  {
   "cell_type": "markdown",
   "metadata": {},
   "source": [
    "## 2. Using Class Linear to create models\n",
    "\n",
    "Linear class is a class found in the <em>nn</em> package of torch."
   ]
  },
  {
   "cell_type": "code",
   "execution_count": 3,
   "metadata": {},
   "outputs": [
    {
     "name": "stdout",
     "output_type": "stream",
     "text": [
      "[Parameter containing:\n",
      "tensor([[0.5153]], requires_grad=True), Parameter containing:\n",
      "tensor([-0.4414], requires_grad=True)]\n"
     ]
    }
   ],
   "source": [
    "import torch\n",
    "from torch.nn import Linear\n",
    "torch.manual_seed(1) #Initialize the slope and bias randomly\n",
    "model = Linear(in_features = 1,out_features=1) #Prepare a model with one input and one output\n",
    "print(list(model.parameters())) #To checkout the parameters\n",
    "\n",
    "x = torch.tensor([[1.0],[2.0],[1.0],[4.0]]) #Independent variable\n",
    "\n",
    "yhat = model(x) #Making a prediction"
   ]
  },
  {
   "cell_type": "markdown",
   "metadata": {},
   "source": [
    "The result is a tensor with a prediction for each row."
   ]
  },
  {
   "cell_type": "markdown",
   "metadata": {},
   "source": [
    "## 3. Create a custom model by using nn\n",
    "Inside a package nn there is a class called <strong>Module</strong> that is used to create custom models."
   ]
  },
  {
   "cell_type": "markdown",
   "metadata": {},
   "source": [
    "Module class must be inherited to create a custom model"
   ]
  },
  {
   "cell_type": "code",
   "execution_count": 10,
   "metadata": {},
   "outputs": [
    {
     "name": "stdout",
     "output_type": "stream",
     "text": [
      "tensor([[0.3267],\n",
      "        [0.6041],\n",
      "        [0.8814]], grad_fn=<AddmmBackward>)\n"
     ]
    }
   ],
   "source": [
    "import torch\n",
    "from torch import nn\n",
    "class LR(nn.Module):\n",
    "    \n",
    "    # Constructor\n",
    "    def __init__(self, input_size, output_size): #Take input size and out put size\n",
    "        # Inherit from parent\n",
    "        super(LR, self).__init__() #Calling the super constructor\n",
    "        self.linear = nn.Linear(input_size, output_size) #Making the linear class available in the class\n",
    "    \n",
    "    # Prediction function\n",
    "    def forward(self, x):\n",
    "        out = self.linear(x) #Do the prediction\n",
    "        return out\n",
    "        \n",
    "lr = LR(1, 1)\n",
    "    \n",
    "X= torch.tensor([[1.0], [2.0], [3.0]])\n",
    "    \n",
    "yhat=lr(X)\n",
    "print(yhat)"
   ]
  },
  {
   "cell_type": "markdown",
   "metadata": {},
   "source": [
    "# Training the Model"
   ]
  },
  {
   "cell_type": "markdown",
   "metadata": {},
   "source": [
    "<p> Since regression is a method to predict continuous value the inputs may be dispersed. The dispersion in the data can also be determined as a noise. The noise in linear regression is a Guassian noise.</p>\n",
    "<p>To get a good model we have to calculate the error in the prediction of the model. This can be calculated my using the mean squared method.</p>"
   ]
  },
  {
   "cell_type": "markdown",
   "metadata": {},
   "source": [
    "We can calculate the loss to see how good the model is performing.\n",
    "```math\n",
    "        loss = (y - yhat)^2\n",
    "        where yhat: is the predicted outcome of the model\n",
    "        ```\n",
    "        "
   ]
  },
  {
   "cell_type": "markdown",
   "metadata": {},
   "source": [
    "The average of the total loss in the inputs is calcuated by the cost function.\n",
    "The cost function is the total / average loss of a given model."
   ]
  },
  {
   "cell_type": "markdown",
   "metadata": {},
   "source": [
    "Inorder to get the optimal cost we are going to use gradient descent or batch gradient descent."
   ]
  },
  {
   "cell_type": "code",
   "execution_count": null,
   "metadata": {},
   "outputs": [],
   "source": []
  }
 ],
 "metadata": {
  "kernelspec": {
   "display_name": "Python 3",
   "language": "python",
   "name": "python3"
  },
  "language_info": {
   "codemirror_mode": {
    "name": "ipython",
    "version": 3
   },
   "file_extension": ".py",
   "mimetype": "text/x-python",
   "name": "python",
   "nbconvert_exporter": "python",
   "pygments_lexer": "ipython3",
   "version": "3.6.6"
  }
 },
 "nbformat": 4,
 "nbformat_minor": 4
}
